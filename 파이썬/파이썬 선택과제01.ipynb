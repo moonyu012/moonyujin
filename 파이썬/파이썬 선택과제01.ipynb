{
 "cells": [
  {
   "cell_type": "markdown",
   "metadata": {},
   "source": [
    "<span style=\"font-size:100%\">\n",
    "\n",
    "수업은 모두 열심히 들으셨나요?\n",
    "\n",
    "간혹 강의에서 언급되지 않은 내용이 문제로 나올 수 있습니다.<br>\n",
    "그럴땐 강의 내용 외 문제는 구글링을 통해 해결해주세요<br></span>\n",
    "<span style=\"font-size:80%\">\n",
    "(구글링 또한 개발자가 갖쳐야할 역량 중에 하나랍니다 😊)\n",
    "</span>\n",
    "\n",
    "---"
   ]
  },
  {
   "cell_type": "markdown",
   "metadata": {},
   "source": [
    "<span style=\"font-size:80%\">[문제1]<br><br></span>\n",
    "```인터프리트 방식에 대해 설명하고 2개 이상의 장점을 설명해주세요```"
   ]
  },
  {
   "cell_type": "markdown",
   "metadata": {},
   "source": [
    "<span style=\"color:red\">답변</span>"
   ]
  },
  {
   "cell_type": "markdown",
   "metadata": {},
   "source": [
    "인터프리터 : (통역) 한줄 한줄 번역하여 기계어로 바꿔줌\n",
    "\n",
    "장점 \n",
    "\n",
    "1. 동적 타이핑 : 변수 선언시 타입을 지정할 필요가 없고, 실행 중에 타입이 결정되므로 유연성을 제공함\n",
    "2. 이식성: 인터프리터가 설치된 시스템에서 소스 코드를 수정 없이 실행할 수 있다."
   ]
  },
  {
   "cell_type": "markdown",
   "metadata": {},
   "source": [
    "---"
   ]
  },
  {
   "cell_type": "markdown",
   "metadata": {},
   "source": [
    "<span style=\"font-size:80%\">[문제2]<br><br></span>\n",
    "```동적 타입 방식의 장점과 단점을 간략히 설명해주세요```"
   ]
  },
  {
   "cell_type": "markdown",
   "metadata": {},
   "source": [
    "<span style=\"color:red\">답변</span>"
   ]
  },
  {
   "cell_type": "markdown",
   "metadata": {},
   "source": [
    "장점 \n",
    "1. 유연성: 변수 타입을 명시하지 않으므로 코딩이 더 유연하고 간단해짐\n",
    "2. 간결한 코드: 코드가 더 간결해지고 읽기 쉬워짐\n",
    "\n",
    "단점\n",
    "1. 성능 저하: 타입이 런타임에 결정되므로, 타입 검사와 관련된 오버헤드가 발생할 수 있음\n",
    "2. 유지 보수 어려움: 대규모 프로젝트에서 동적 타입은 유지 보수를 어렵게 할 수있음"
   ]
  },
  {
   "cell_type": "markdown",
   "metadata": {},
   "source": [
    "---"
   ]
  },
  {
   "cell_type": "markdown",
   "metadata": {},
   "source": [
    "<span style=\"font-size:80%\">[문제3]<br><br></span>\n",
    "```Python으로 정적타입 방식의 코드를 작성할 수 있는 방법을 구글링을 통해 검색 후 설명해주세요```"
   ]
  },
  {
   "cell_type": "markdown",
   "metadata": {},
   "source": [
    "<span style=\"color:red\">답변</span>"
   ]
  },
  {
   "cell_type": "markdown",
   "metadata": {},
   "source": [
    "타입 힌트와 mypy를 사용하면 Python 코드에서 정적 타입 방식을 어느 정도 구현할 수 있습니다."
   ]
  },
  {
   "cell_type": "markdown",
   "metadata": {},
   "source": []
  },
  {
   "cell_type": "markdown",
   "metadata": {},
   "source": [
    "<span style=\"font-size:80%\">[문제4]<br><br></span>\n",
    "```프로세스와 스레드의 차이점을 설명해주세요```"
   ]
  },
  {
   "cell_type": "markdown",
   "metadata": {},
   "source": [
    "<span style=\"color:red\">답변</span>"
   ]
  },
  {
   "cell_type": "markdown",
   "metadata": {},
   "source": [
    "프로세스: 실행중인 프로그램읜 인스턴스\n",
    "스래드: 프로세스 내에서 실행되는 작업 단위"
   ]
  },
  {
   "cell_type": "markdown",
   "metadata": {},
   "source": [
    "---"
   ]
  },
  {
   "cell_type": "markdown",
   "metadata": {},
   "source": [
    "<span style=\"font-size:80%\">[문제5]<br><br></span>\n",
    "```Python 2버전대와 3버전대의 차이를 성명해주세요```"
   ]
  },
  {
   "cell_type": "markdown",
   "metadata": {},
   "source": [
    "<span style=\"color:red\">답변</span>"
   ]
  },
  {
   "cell_type": "markdown",
   "metadata": {},
   "source": [
    "Python3에서는 기본적으로 문자열은 Unicode\n",
    "Python2에서는 기본적으로 문자열은 ASCII "
   ]
  },
  {
   "cell_type": "markdown",
   "metadata": {},
   "source": [
    "---"
   ]
  },
  {
   "cell_type": "markdown",
   "metadata": {},
   "source": [
    "<span style=\"font-size:80%\">[문제6]<br><br></span>\n",
    "```Python에서 메모리 관리는 어떻게 이루어지는지 설명해주세요```"
   ]
  },
  {
   "cell_type": "markdown",
   "metadata": {},
   "source": [
    "<span style=\"color:red\">답변</span>"
   ]
  },
  {
   "cell_type": "markdown",
   "metadata": {},
   "source": [
    "1. 자동 메모리 관리 (Automatic Memory Management): 파이썬은 자동으로 메모리를 할당하고 해제하는 기능을 가지고 있습니다. 이를 통해 개발자가 명시적으로 메모리 할당과 해제를 관리하지 않아도 됩니다.\n",
    "\n",
    "2. 가비지 컬렉션 (Garbage Collection): 파이썬은 가비지 컬렉션을 사용하여 더 이상 사용되지 않는 객체들을 자동으로 해제합니다. 이 과정에서 참조 카운트(reference count)와 세대(generation) 기반의 가비지 컬렉션 알고리즘이 결합되어 사용됩니다.\n",
    "\n",
    "3. 참조 카운트 (Reference Counting): 파이썬은 객체를 참조하는 변수의 수를 추적하여 해당 객체의 메모리를 해제할 시점을 결정합니다. 변수가 더 이상 해당 객체를 참조하지 않으면 참조 카운트가 감소하고, 카운트가 0이 되면 해당 객체는 해제됩니다.\n",
    "\n",
    "4. 세대 기반 가비지 컬렉션 (Generational Garbage Collection): 파이썬은 세대(generation)라는 개념을 사용하여 객체를 추적합니다. 대부분의 객체는 처음에는 새로운 세대로 분류되고, 일정 시간이 지나면 오래된 세대로 이동됩니다. 오래된 세대의 객체들은 더 드물게 변경되므로, 이러한 객체들은 더 적게 검사됩니다.\n",
    "\n",
    "5. 메모리 최적화 (Memory Optimization): 파이썬 인터프리터는 메모리 관리를 최적화하기 위해 다양한 방법을 사용합니다. 예를 들어 작은 정수와 같은 일부 객체는 캐시되어 재사용되며, 이는 메모리 사용을 줄이는 데 도움이 됩니다."
   ]
  }
 ],
 "metadata": {
  "language_info": {
   "name": "python"
  }
 },
 "nbformat": 4,
 "nbformat_minor": 2
}
