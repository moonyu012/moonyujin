{
 "cells": [
  {
   "cell_type": "code",
   "execution_count": 6,
   "metadata": {},
   "outputs": [
    {
     "name": "stdout",
     "output_type": "stream",
     "text": [
      "_____\n",
      "틀렸습니다. 남은 시도 횟수:5\n",
      "_____\n",
      "단어를 맞추셨습니다.\n",
      "a____\n",
      "단어를 맞추셨습니다.\n",
      "app__\n",
      "단어를 맞추셨습니다.\n",
      "appl_\n",
      "단어를 맞추셨습니다.\n",
      "축하합니다. 정답입니다.\n"
     ]
    }
   ],
   "source": [
    "import random\n",
    "\n",
    "# 게임에 사용될 단어 목록\n",
    "words = [\"apple\", \"banana\", \"orange\", \"grape\", \"lemon\"]\n",
    "\n",
    "class HangMan:\n",
    "    def __init__(self):\n",
    "        self.word = random.choice(words)\n",
    "        self.guess = set()\n",
    "        self.trry = 6\n",
    "    def dp(self):\n",
    "        dp_word=\"\"\n",
    "        for i in self.word:\n",
    "            if i in self.guess:\n",
    "                dp_word += i\n",
    "            else:\n",
    "                dp_word += \"_\"\n",
    "        return dp_word\n",
    "    \n",
    "    def play(self):\n",
    "        while  self.trry > 0:\n",
    "            print(self.dp())\n",
    "            guessed = input(\"알파벳을 선택해 주세요\").lower()\n",
    "\n",
    "            if guessed in self.guess:\n",
    "                print(\"이미 추측한 단어입니다.\")\n",
    "            elif guessed in self.word:\n",
    "                self.guess.add(guessed)\n",
    "                print(\"단어를 맞추셨습니다.\")\n",
    "\n",
    "                if set(self.word) == (self.guess): # issubset self.word가 self.guess의 서브가 맞내 맞으면 True를 반환\n",
    "                    print(f\"축하합니다. 정답입니다.{self.word}\")\n",
    "                    break\n",
    "            else:\n",
    "                self.trry -= 1\n",
    "                \n",
    "                print(f\"틀렸습니다. 남은 시도 횟수:{self.trry}\")\n",
    "            if self.trry == 0:\n",
    "                print(f\"게임 오버 정답은 {self.word}입니다.\")\n",
    "\n",
    "if __name__ == \"__main__\":\n",
    "    game = HangMan()\n",
    "    game.play()\n",
    "\n",
    "\n",
    "\n"
   ]
  }
 ],
 "metadata": {
  "kernelspec": {
   "display_name": "Python 3",
   "language": "python",
   "name": "python3"
  },
  "language_info": {
   "codemirror_mode": {
    "name": "ipython",
    "version": 3
   },
   "file_extension": ".py",
   "mimetype": "text/x-python",
   "name": "python",
   "nbconvert_exporter": "python",
   "pygments_lexer": "ipython3",
   "version": "3.9.6"
  }
 },
 "nbformat": 4,
 "nbformat_minor": 2
}
