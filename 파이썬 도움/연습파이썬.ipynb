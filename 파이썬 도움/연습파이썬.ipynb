{
 "cells": [
  {
   "cell_type": "code",
   "execution_count": null,
   "metadata": {},
   "outputs": [],
   "source": [
    "def cafe(n1, n2, n3):\n",
    "    print(f\"아침 추천메뉴는 {n1}입니다.\")\n",
    "    print(f\"점심 추천메뉴는 {n2}입니다.\")\n",
    "    print(f\"저녁 추천메뉴는 {n3}입니다.\")\n",
    "cafe('시리얼','홍차','라면')"
   ]
  },
  {
   "cell_type": "code",
   "execution_count": 1,
   "metadata": {},
   "outputs": [
    {
     "name": "stdout",
     "output_type": "stream",
     "text": [
      "suv\n"
     ]
    }
   ],
   "source": [
    "class Car: # 클래스 = 공장\n",
    "    pass\n",
    "\n",
    "x = Car() # x는 인스턴스 = 공장에서 나온 자동차\n",
    "x.color = 'red'\n",
    "x.type = 'suv'\n",
    "print(x.type,x.type)"
   ]
  },
  {
   "cell_type": "code",
   "execution_count": 2,
   "metadata": {},
   "outputs": [
    {
     "name": "stdout",
     "output_type": "stream",
     "text": [
      "red\n"
     ]
    }
   ],
   "source": [
    "class Car: # 클래스 반복하기 싫어서 씀\n",
    "    color = 'red'\n",
    "    type = 'suv'\n",
    "\n",
    "print(Car.color)"
   ]
  },
  {
   "cell_type": "code",
   "execution_count": 19,
   "metadata": {},
   "outputs": [
    {
     "name": "stdout",
     "output_type": "stream",
     "text": [
      "red suv\n",
      "yellow sedan\n"
     ]
    }
   ],
   "source": [
    "class Car: #self : 자기자신 지칭 나를 초기화 할거야\n",
    "    def __init__(self, c, type):  # 초기화 하겠다 -> def __init__()\n",
    "        self.color = c # 속성 = 값\n",
    "        self.type = type\n",
    "    def show(self):\n",
    "        print(self.color,self.type)\n",
    "\n",
    "x = Car('red','suv')\n",
    "\n",
    "x.show()\n",
    "\n",
    "y = Car('yellow','sedan')\n",
    "y.show()\n",
    "\n"
   ]
  },
  {
   "cell_type": "code",
   "execution_count": 1,
   "metadata": {},
   "outputs": [
    {
     "name": "stdout",
     "output_type": "stream",
     "text": [
      "안녕하세요입니다.\n"
     ]
    }
   ],
   "source": [
    "class practice:\n",
    "    def __init__(self, name, age):\n",
    "        self.name = name\n",
    "        self.age = age\n",
    "    def abc(self):\n",
    "        print('{}{}입니다.'.format(\"안녕\",\"하세요\"))\n",
    "\n",
    "aa = practice(\"아무개\",20)\n",
    "\n",
    "aa.abc()"
   ]
  },
  {
   "cell_type": "code",
   "execution_count": 2,
   "metadata": {},
   "outputs": [
    {
     "name": "stdout",
     "output_type": "stream",
     "text": [
      "아무개20입니다.\n"
     ]
    }
   ],
   "source": [
    "class practice:\n",
    "    def __init__(self, name, age):\n",
    "        self.name = name\n",
    "        self.age = age\n",
    "    def abc(self):\n",
    "        print('{}{}입니다.'.format(self.name,self.age))\n",
    "\n",
    "aa = practice(\"아무개\",20)\n",
    "\n",
    "aa.abc()"
   ]
  },
  {
   "cell_type": "code",
   "execution_count": 3,
   "metadata": {},
   "outputs": [
    {
     "name": "stdout",
     "output_type": "stream",
     "text": [
      "아무개20입니다.\n"
     ]
    }
   ],
   "source": [
    "class practice:\n",
    "    def __init__(self, name, age):\n",
    "        self.name = name\n",
    "        self.age = age\n",
    "    def abc(self):\n",
    "        print(f'{self.name}{self.age}입니다.')\n",
    "\n",
    "aa = practice(\"아무개\",20)\n",
    "\n",
    "aa.abc()"
   ]
  },
  {
   "cell_type": "code",
   "execution_count": 17,
   "metadata": {},
   "outputs": [
    {
     "name": "stdout",
     "output_type": "stream",
     "text": [
      "스펀지밥의 점수의 합은 140 평균은 70.0입니다.\n",
      "징징이의 점수의 합은 160 평균은 80.0입니다.\n",
      "뚱이의 점수의 합은 50 평균은 25.0입니다.\n"
     ]
    }
   ],
   "source": [
    "class Pro:\n",
    "    def __init__(self, a,b,c):\n",
    "        self.a = a\n",
    "        self.b = b\n",
    "        self.c = c\n",
    "    def dp(self):\n",
    "        return self.a + self.b\n",
    "    def avg(self):\n",
    "        return self.dp() / 2\n",
    "    def pri(self):\n",
    "        return f'{self.c}의 점수의 합은 {self.dp()} 평균은 {self.avg()}입니다.'\n",
    "    \n",
    "data = [\n",
    "    Pro(60,80,\"스펀지밥\"),\n",
    "    Pro(70,90,\"징징이\"),\n",
    "    Pro(30,20,\"뚱이\")\n",
    "]\n",
    "for a in data:\n",
    "    print(a.pri())\n",
    "\n"
   ]
  }
 ],
 "metadata": {
  "kernelspec": {
   "display_name": "Python 3",
   "language": "python",
   "name": "python3"
  },
  "language_info": {
   "codemirror_mode": {
    "name": "ipython",
    "version": 3
   },
   "file_extension": ".py",
   "mimetype": "text/x-python",
   "name": "python",
   "nbconvert_exporter": "python",
   "pygments_lexer": "ipython3",
   "version": "3.9.6"
  }
 },
 "nbformat": 4,
 "nbformat_minor": 2
}
