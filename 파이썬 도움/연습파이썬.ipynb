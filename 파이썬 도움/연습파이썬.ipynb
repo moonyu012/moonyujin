{
 "cells": [
  {
   "cell_type": "code",
   "execution_count": 25,
   "metadata": {},
   "outputs": [
    {
     "name": "stdout",
     "output_type": "stream",
     "text": [
      "아침 추천메뉴는 시리얼입니다.\n",
      "점심 추천메뉴는 홍차입니다.\n",
      "저녁 추천메뉴는 라면입니다.\n"
     ]
    }
   ],
   "source": [
    "def cafe(n1, n2, n3):\n",
    "    print(f\"아침 추천메뉴는 {n1}입니다.\")\n",
    "    print(f\"점심 추천메뉴는 {n2}입니다.\")\n",
    "    print(f\"저녁 추천메뉴는 {n3}입니다.\")\n",
    "cafe('시리얼','홍차','라면')"
   ]
  },
  {
   "cell_type": "code",
   "execution_count": 26,
   "metadata": {},
   "outputs": [
    {
     "name": "stdout",
     "output_type": "stream",
     "text": [
      "suv suv\n"
     ]
    }
   ],
   "source": [
    "class Car: # 클래스 = 공장\n",
    "    pass\n",
    "\n",
    "x = Car() # x는 인스턴스 = 공장에서 나온 자동차\n",
    "x.color = 'red'\n",
    "x.type = 'suv'\n",
    "print(x.type,x.type)"
   ]
  },
  {
   "cell_type": "code",
   "execution_count": 27,
   "metadata": {},
   "outputs": [
    {
     "name": "stdout",
     "output_type": "stream",
     "text": [
      "red\n"
     ]
    }
   ],
   "source": [
    "class Car: # 클래스 반복하기 싫어서 씀\n",
    "    color = 'red'\n",
    "    type = 'suv'\n",
    "\n",
    "print(Car.color)"
   ]
  },
  {
   "cell_type": "code",
   "execution_count": 28,
   "metadata": {},
   "outputs": [
    {
     "name": "stdout",
     "output_type": "stream",
     "text": [
      "red suv\n",
      "yellow sedan\n"
     ]
    }
   ],
   "source": [
    "class Car: #self : 자기자신 지칭 나를 초기화 할거야\n",
    "    def __init__(self, c, type):  # 초기화 하겠다 -> def __init__()\n",
    "        self.color = c # 속성 = 값\n",
    "        self.type = type\n",
    "    def show(self):\n",
    "        print(self.color,self.type)\n",
    "\n",
    "x = Car('red','suv')\n",
    "\n",
    "x.show()\n",
    "\n",
    "y = Car('yellow','sedan')\n",
    "y.show()\n",
    "\n"
   ]
  },
  {
   "cell_type": "code",
   "execution_count": 29,
   "metadata": {},
   "outputs": [
    {
     "name": "stdout",
     "output_type": "stream",
     "text": [
      "안녕하세요입니다.\n"
     ]
    }
   ],
   "source": [
    "class practice:\n",
    "    def __init__(self, name, age):\n",
    "        self.name = name\n",
    "        self.age = age\n",
    "    def abc(self):\n",
    "        print('{}{}입니다.'.format(\"안녕\",\"하세요\"))\n",
    "\n",
    "aa = practice(\"아무개\",20)\n",
    "\n",
    "aa.abc()"
   ]
  },
  {
   "cell_type": "code",
   "execution_count": 30,
   "metadata": {},
   "outputs": [
    {
     "name": "stdout",
     "output_type": "stream",
     "text": [
      "아무개20입니다.\n"
     ]
    }
   ],
   "source": [
    "class practice:\n",
    "    def __init__(self, name, age):\n",
    "        self.name = name\n",
    "        self.age = age\n",
    "    def abc(self):\n",
    "        print('{}{}입니다.'.format(self.name,self.age))\n",
    "\n",
    "aa = practice(\"아무개\",20)\n",
    "\n",
    "aa.abc()"
   ]
  },
  {
   "cell_type": "code",
   "execution_count": 31,
   "metadata": {},
   "outputs": [
    {
     "name": "stdout",
     "output_type": "stream",
     "text": [
      "아무개20입니다.\n"
     ]
    }
   ],
   "source": [
    "class practice:\n",
    "    def __init__(self, name, age):\n",
    "        self.name = name\n",
    "        self.age = age\n",
    "    def abc(self):\n",
    "        print(f'{self.name}{self.age}입니다.')\n",
    "\n",
    "aa = practice(\"아무개\",20)\n",
    "\n",
    "aa.abc()"
   ]
  },
  {
   "cell_type": "code",
   "execution_count": 32,
   "metadata": {},
   "outputs": [
    {
     "name": "stdout",
     "output_type": "stream",
     "text": [
      "스펀지밥의 점수의 합은 140 평균은 70.0입니다.\n",
      "징징이의 점수의 합은 160 평균은 80.0입니다.\n",
      "뚱이의 점수의 합은 50 평균은 25.0입니다.\n"
     ]
    }
   ],
   "source": [
    "class Pro:\n",
    "    def __init__(self, a,b,c):\n",
    "        self.a = a\n",
    "        self.b = b\n",
    "        self.c = c\n",
    "    def dp(self):\n",
    "        return self.a + self.b\n",
    "    def avg(self):\n",
    "        return self.dp() / 2\n",
    "    def pri(self):\n",
    "        return f'{self.c}의 점수의 합은 {self.dp()} 평균은 {self.avg()}입니다.'\n",
    "    \n",
    "data = [\n",
    "    Pro(60,80,\"스펀지밥\"),\n",
    "    Pro(70,90,\"징징이\"),\n",
    "    Pro(30,20,\"뚱이\")\n",
    "]\n",
    "for a in data:\n",
    "    print(a.pri())\n",
    "\n"
   ]
  },
  {
   "cell_type": "code",
   "execution_count": 33,
   "metadata": {},
   "outputs": [
    {
     "name": "stdout",
     "output_type": "stream",
     "text": [
      "12\n"
     ]
    },
    {
     "data": {
      "text/plain": [
       "7"
      ]
     },
     "execution_count": 33,
     "metadata": {},
     "output_type": "execute_result"
    }
   ],
   "source": [
    "class aaa:\n",
    "    def __init__(self,c,s):\n",
    "        self.c = c\n",
    "        self.s = s\n",
    "    def add(self):\n",
    "        result = self.c + self.s\n",
    "        return result\n",
    "\n",
    "a=(aaa(3,4))\n",
    "\n",
    "print(a.c * a.s)\n",
    "a.add()        "
   ]
  },
  {
   "cell_type": "markdown",
   "metadata": {},
   "source": [
    "form mod2 import add,avg\n",
    ":mod2.py라는 파일 안에 있는 add의 함수를 가져와서 쓰겠다(필요한 기능만 가져와서 쓰겠다.)\n",
    "\n",
    "inport mod\n",
    ":mod.py안에 있는 코드를 가져와서 쓰겠다\n",
    "\n"
   ]
  },
  {
   "cell_type": "code",
   "execution_count": 43,
   "metadata": {},
   "outputs": [
    {
     "name": "stdout",
     "output_type": "stream",
     "text": [
      "2024-07-11\n"
     ]
    }
   ],
   "source": [
    "import datetime\n",
    "day1 = datetime.date(2024,7,11)\n",
    "print(day1)"
   ]
  },
  {
   "cell_type": "code",
   "execution_count": null,
   "metadata": {},
   "outputs": [],
   "source": [
    "import time\n",
    "a = time.time() # 현재 시간을 초 단위로 반환 a 에 저장\n",
    "\n",
    "for i in range(1,1000): # for문이 실행 후\n",
    "    print(\"\")\n",
    "\n",
    "b = time.time() # 반복문 실핼 이후의 시간을 기록\n",
    "\n",
    "print(b-a) # 실행 후 시간에서 실행전 (a)를 뺸 값을 출력\n",
    "\n",
    "# 반복분 실행에 걸린 총 시간을 초 단위로 구함"
   ]
  },
  {
   "cell_type": "code",
   "execution_count": 37,
   "metadata": {},
   "outputs": [
    {
     "name": "stdout",
     "output_type": "stream",
     "text": [
      "천사\n",
      "허용되지 않는 별명입니다.\n"
     ]
    }
   ],
   "source": [
    "class MyError(Exception):\n",
    "    def __str__(self):\n",
    "        return \"허용되지 않는 별명입니다.\"\n",
    "\n",
    "def say_nick(nick):\n",
    "    if nick == '바보':\n",
    "        raise MyError()\n",
    "    print(nick)\n",
    "    \n",
    "\n",
    "try:\n",
    "    say_nick('천사')\n",
    "    say_nick('바보')\n",
    "except MyError as e:\n",
    "    print(e)"
   ]
  },
  {
   "cell_type": "code",
   "execution_count": null,
   "metadata": {},
   "outputs": [],
   "source": [
    "class MyError(Exception):\n",
    "    def __str__(self):\n",
    "        return \"허용되지 않는 별명입니다.\"\n",
    "\n",
    "def say_nick(nick):\n",
    "    if nick == '바보':\n",
    "        raise MyError()\n",
    "    print(nick)\n",
    "    \n",
    "\n",
    "try:\n",
    "    say_nick('천사')\n",
    "    say_nick('바보')\n",
    "except MyError as e:\n",
    "    print(e)"
   ]
  },
  {
   "cell_type": "code",
   "execution_count": 16,
   "metadata": {},
   "outputs": [
    {
     "name": "stdout",
     "output_type": "stream",
     "text": [
      "안녕\n"
     ]
    }
   ],
   "source": [
    "try: # 오류 회피하기\n",
    "    f = open(\"없는 파일\",'r')\n",
    "except FileNotFoundError:\n",
    "    pass\n",
    "print(\"안녕\")"
   ]
  },
  {
   "cell_type": "code",
   "execution_count": 17,
   "metadata": {},
   "outputs": [
    {
     "name": "stdout",
     "output_type": "stream",
     "text": [
      "입력이 정확하지 않습니다.\n"
     ]
    }
   ],
   "source": [
    "try:\n",
    "    age = int(input('나이를 입력하세요'))\n",
    "except:\n",
    "    print('입력이 정확하지 않습니다.')\n",
    "else:\n",
    "    if age <= 18:\n",
    "        print('미성년자는 출입금지 입니다.')\n",
    "    else:\n",
    "        print('환영합니다.')"
   ]
  },
  {
   "cell_type": "code",
   "execution_count": 18,
   "metadata": {},
   "outputs": [
    {
     "name": "stdout",
     "output_type": "stream",
     "text": [
      "김\n",
      "박\n"
     ]
    }
   ],
   "source": [
    "class Family:\n",
    "    lastname = \"김\"\n",
    "\n",
    "a = Family()\n",
    "b = Family()\n",
    "b.lastname = \"박\"\n",
    "print(a.lastname)\n",
    "print(b.lastname)"
   ]
  },
  {
   "cell_type": "code",
   "execution_count": 44,
   "metadata": {},
   "outputs": [
    {
     "name": "stdout",
     "output_type": "stream",
     "text": [
      "6\n"
     ]
    }
   ],
   "source": [
    "n = int(input())\n",
    "su = 0\n",
    "for i in range(1,n+1):\n",
    "    su += i\n",
    "\n",
    "print(su)"
   ]
  },
  {
   "cell_type": "code",
   "execution_count": null,
   "metadata": {},
   "outputs": [
    {
     "name": "stdout",
     "output_type": "stream",
     "text": [
      "'Hello, World!'\n"
     ]
    }
   ],
   "source": [
    "text = \"   Hello, World!   \"\n",
    "cleaned_text = text.strip()\n",
    "print(f\"'{cleaned_text}'\")\n"
   ]
  },
  {
   "cell_type": "code",
   "execution_count": null,
   "metadata": {},
   "outputs": [
    {
     "name": "stdout",
     "output_type": "stream",
     "text": [
      "'   Hello, World!   '\n"
     ]
    }
   ],
   "source": [
    "text = \"   Hello, World!   \"\n",
    "cleaned_text = text\n",
    "print(f\"'{cleaned_text}'\")\n"
   ]
  },
  {
   "cell_type": "code",
   "execution_count": 48,
   "metadata": {},
   "outputs": [
    {
     "name": "stdout",
     "output_type": "stream",
     "text": [
      "[2, 4, 6, 8, 10, 12, 14, 16, 18]\n"
     ]
    }
   ],
   "source": [
    "def gugu(n):\n",
    "    result = []\n",
    "    i = 1\n",
    "    while i < 10:\n",
    "        result.append(n*i)\n",
    "        i += 1\n",
    "    return result\n",
    "print(gugu(2))"
   ]
  },
  {
   "cell_type": "code",
   "execution_count": 49,
   "metadata": {},
   "outputs": [
    {
     "name": "stdout",
     "output_type": "stream",
     "text": [
      "233168\n"
     ]
    }
   ],
   "source": [
    "result = 0\n",
    "for n in range(1,1000):\n",
    "    if n % 3 == 0 or n % 5 == 0:\n",
    "        result += n\n",
    "print(result)"
   ]
  },
  {
   "cell_type": "code",
   "execution_count": 50,
   "metadata": {},
   "outputs": [
    {
     "name": "stdout",
     "output_type": "stream",
     "text": [
      "1\n",
      "2\n",
      "3\n",
      "3\n"
     ]
    }
   ],
   "source": [
    "def get_total_page(m,n):\n",
    "    if m % n == 0:\n",
    "        return m // n\n",
    "    else:\n",
    "        return m // n +1\n",
    "print(get_total_page(5,10))\n",
    "print(get_total_page(15,10))\n",
    "print(get_total_page(25,10))\n",
    "print(get_total_page(30,10))"
   ]
  },
  {
   "cell_type": "code",
   "execution_count": 1,
   "metadata": {},
   "outputs": [
    {
     "name": "stdout",
     "output_type": "stream",
     "text": [
      ">\n"
     ]
    }
   ],
   "source": [
    "A = int(input()) \n",
    "B = int(input())\n",
    "if A > B:\n",
    "    print(\">\")\n",
    "elif A < B:\n",
    "    print(\"<\")\n",
    "else:\n",
    "    print(\"==\")"
   ]
  },
  {
   "cell_type": "code",
   "execution_count": null,
   "metadata": {},
   "outputs": [],
   "source": [
    "for i in range(2, 10):\n",
    "    for n in range(1, 10):  \n",
    "        print(f'{i} * {n} = {i*n}')"
   ]
  },
  {
   "cell_type": "code",
   "execution_count": 7,
   "metadata": {},
   "outputs": [
    {
     "name": "stdout",
     "output_type": "stream",
     "text": [
      "2 * 1 = 2\n",
      "2 * 2 = 4\n",
      "2 * 3 = 6\n",
      "2 * 4 = 8\n",
      "2 * 5 = 10\n",
      "2 * 6 = 12\n",
      "2 * 7 = 14\n",
      "2 * 8 = 16\n",
      "2 * 9 = 18\n"
     ]
    }
   ],
   "source": [
    "n = int(input())\n",
    "\n",
    "for i in range(1,10):\n",
    "    print(n, '*', i, '=', n*i)"
   ]
  },
  {
   "cell_type": "code",
   "execution_count": 1,
   "metadata": {},
   "outputs": [
    {
     "name": "stdout",
     "output_type": "stream",
     "text": [
      "2\n",
      "3\n",
      "-1\n"
     ]
    }
   ],
   "source": [
    "def sequential_search(a,x):\n",
    "\tn = len(a)\n",
    "\t\n",
    "\tfor i in range(0,n):\n",
    "\t\tif x == a[i]:\n",
    "\t\t\treturn i\n",
    "\treturn -1\n",
    "\t\n",
    "b = [17, 92, 18, 33, 58, 7, 33, 42]\n",
    "\n",
    "print(sequential_search(b,18))\n",
    "print(sequential_search(b,33))\n",
    "print(sequential_search(b,50))"
   ]
  },
  {
   "cell_type": "code",
   "execution_count": 11,
   "metadata": {},
   "outputs": [
    {
     "name": "stdout",
     "output_type": "stream",
     "text": [
      "1\n",
      "2\n",
      "-1\n"
     ]
    }
   ],
   "source": [
    "def sequential_search(a,x):\n",
    "\tn = len(a)\n",
    "\t\n",
    "\tfor i in range(0,n):\n",
    "\t\tif x == a[i]:\n",
    "\t\t\tif i > 0:\n",
    "\t\t\t\ta[i], a[i-1] = a[i-1], a[i]\n",
    "\t\t\t\ti = i - 1\n",
    "\t\t\treturn i\n",
    "\treturn -1\n",
    "\t\n",
    "b = [17, 92, 18, 33, 58, 7, 42]\n",
    "\n",
    "print(sequential_search(b,18))\n",
    "print(sequential_search(b,33))\n",
    "print(sequential_search(b,50))"
   ]
  },
  {
   "cell_type": "code",
   "execution_count": 9,
   "metadata": {},
   "outputs": [
    {
     "name": "stdout",
     "output_type": "stream",
     "text": [
      "다람이\n",
      "?\n"
     ]
    }
   ],
   "source": [
    "\n",
    "\n",
    "def search_list(st_mun,st_name,find_num):\n",
    "    n = len(st_mun)\n",
    "    for i in range(0,n):\n",
    "        if find_num == st_mun[i]:\n",
    "            return st_name[i]\n",
    "        \n",
    "    return \"?\"\n",
    "stu_num = [39,14, 67, 105]\n",
    "stu_name = [\"스펀지밥\",\"징징이\",\"뚱이\",\"다람이\"]\n",
    "\n",
    "print(search_list(stu_num,stu_name,105))\n",
    "print(search_list(stu_num,stu_name,108))\n"
   ]
  },
  {
   "cell_type": "code",
   "execution_count": 23,
   "metadata": {},
   "outputs": [
    {
     "name": "stdout",
     "output_type": "stream",
     "text": [
      "3\n"
     ]
    }
   ],
   "source": [
    "target = 25\n",
    "m_list = [30, 94, 27, 92, 21, 37, 47, 25, 53, 98, 19, 32, 32, 7]\n",
    "length = len(m_list)\n",
    "\n",
    "m_list.sort()  # 오름차순 정렬 [7, 19, 21, 25, 27, 30, 32, 32, 37, 47, 53, 92, 94, 98]\n",
    "left = 0\n",
    "right = length - 1  # 14\n",
    "\n",
    "while left <= right:\n",
    "    mid = (left + right) // 2  # 중간 인덱스 계산\n",
    "    if m_list[mid] == target:\n",
    "        print(mid)  # 1-based 인덱스 반환\n",
    "        break\n",
    "    elif m_list[mid] > target:\n",
    "        right = mid - 1  # 중간값이 타겟보다 크면 오른쪽 부분을 버림\n",
    "    else:\n",
    "        left = mid + 1  # 중간값이 타겟보다 작으면 왼쪽 부분을 버림\n"
   ]
  },
  {
   "cell_type": "code",
   "execution_count": 24,
   "metadata": {},
   "outputs": [
    {
     "name": "stdout",
     "output_type": "stream",
     "text": [
      "3\n"
     ]
    }
   ],
   "source": [
    "def binary_search(arr, target):\n",
    "    left = 0\n",
    "    right = len(arr) - 1\n",
    "    \n",
    "    while left <= right:\n",
    "        mid = (left + right) // 2  # 중간 인덱스 계산\n",
    "        if arr[mid] == target:\n",
    "            return mid  # 0-based 인덱스 반환\n",
    "        elif arr[mid] > target:\n",
    "            right = mid - 1  # 중간값이 타겟보다 크면 오른쪽 부분을 버림\n",
    "        else:\n",
    "            left = mid + 1  # 중간값이 타겟보다 작으면 왼쪽 부분을 버림\n",
    "    \n",
    "    return -1  # 값을 찾지 못한 경우\n",
    "\n",
    "target = 25\n",
    "m_list = [30, 94, 27, 92, 21, 37, 25, 47, 25, 53, 98, 19, 32, 32, 7]\n",
    "\n",
    "m_list.sort()  # 오름차순 정렬 [7, 19, 21, 25, 25, 27, 30, 32, 32, 37, 47, 53, 92, 94, 98]\n",
    "\n",
    "result = binary_search(m_list, target)\n",
    "\n",
    "\n",
    "print(result)  # 0-based 인덱스 출력"
   ]
  },
  {
   "cell_type": "code",
   "execution_count": 26,
   "metadata": {},
   "outputs": [
    {
     "name": "stdout",
     "output_type": "stream",
     "text": [
      "3\n"
     ]
    }
   ],
   "source": [
    "def binary_search(arr, target, left, right):\n",
    "    if left <= right:\n",
    "        mid = (left + right) // 2\n",
    "\n",
    "        if arr[mid] == target:\n",
    "            return mid\n",
    "        elif arr[mid] > target:\n",
    "            return binary_search(arr, target, left, mid - 1)\n",
    "        else:\n",
    "            return binary_search(arr, target, mid + 1, right)\n",
    "\n",
    "target = 25\n",
    "m_list = [30, 94, 27, 92, 21, 37, 25, 47, 25, 53, 98, 19, 32, 32, 7]\n",
    "\n",
    "m_list.sort()  # 오름차순 정렬 [7, 19, 21, 25, 25, 27, 30, 32, 32, 37, 47, 53, 92, 94, 98]\n",
    "\n",
    "result = binary_search(m_list, target, 0, len(m_list) - 1)\n",
    "\n",
    "\n",
    "print(result)  # 3\n"
   ]
  },
  {
   "cell_type": "code",
   "execution_count": 37,
   "metadata": {},
   "outputs": [
    {
     "name": "stdout",
     "output_type": "stream",
     "text": [
      "3\n"
     ]
    }
   ],
   "source": [
    "def interpolation_search(arr, target):\n",
    "    left = 0\n",
    "    right = len(arr) - 1\n",
    "    \n",
    "    while left <= right and target >= arr[left] and target <= arr[right]:\n",
    "    \n",
    "        # 보간 포인트 계산\n",
    "        pos = left + ((right - left) // (arr[right] - arr[left]) * (target - arr[left]))\n",
    "        \n",
    "        if arr[pos] == target:\n",
    "            return pos\n",
    "        if arr[pos] < target:\n",
    "            left = pos + 1\n",
    "        else:\n",
    "            right = pos - 1\n",
    "    \n",
    "    return -1\n",
    "\n",
    "target = 25\n",
    "m_list = [30, 94, 27, 92, 21, 37, 25, 47, 25, 53, 98, 19, 32, 32, 7]\n",
    "\n",
    "m_list.sort()  # 오름차순 정렬 [7, 19, 21, 25, 25, 27, 30, 32, 32, 37, 47, 53, 92, 94, 98]\n",
    "\n",
    "result = interpolation_search(m_list, target)\n",
    "\n",
    "print(result)  # 3\n",
    "\n"
   ]
  },
  {
   "cell_type": "code",
   "execution_count": 3,
   "metadata": {},
   "outputs": [
    {
     "name": "stdout",
     "output_type": "stream",
     "text": [
      "3\n"
     ]
    }
   ],
   "source": [
    "def interpolation_search(arr, target):\n",
    "    left = 0\n",
    "    right = len(arr) - 1\n",
    "    \n",
    "    while left <= right and target >= arr[left] and target <= arr[right]:\n",
    "        \n",
    "        # 보간 포인트 계산\n",
    "        if arr[left] == arr[right]:\n",
    "            pos = left\n",
    "        else:\n",
    "           pos = left + ((right - left) * (target - arr[left]) // (arr[right] - arr[left])) # 14 *(25-7)//(98-7)= 2\n",
    "        \n",
    "        if arr[pos] == target:\n",
    "            return pos\n",
    "        if arr[pos] < target:\n",
    "            left = pos + 1\n",
    "        else:\n",
    "            right = pos - 1\n",
    "    \n",
    "    return -1\n",
    "\n",
    "target = 25\n",
    "m_list = [30, 94, 27, 92, 21, 37, 26, 47, 25, 53, 98, 19, 32, 32, 7] # 0 - 14\n",
    "\n",
    "m_list.sort()  # 오름차순 정렬 [7, 19, 21, 25, 26, 27, 30, 32, 32, 37, 47, 53, 92, 94, 98]\n",
    "\n",
    "result = interpolation_search(m_list, target)\n",
    "\n",
    "print(result)  # 3\n"
   ]
  },
  {
   "cell_type": "code",
   "execution_count": 4,
   "metadata": {},
   "outputs": [
    {
     "name": "stdout",
     "output_type": "stream",
     "text": [
      "321\n"
     ]
    }
   ],
   "source": [
    "import sys\n",
    "\n",
    "n = list(map(int,input().split()))\n",
    "n.sort()\n",
    "print(*n)\n"
   ]
  },
  {
   "cell_type": "code",
   "execution_count": 8,
   "metadata": {},
   "outputs": [
    {
     "ename": "TypeError",
     "evalue": "'list' object cannot be interpreted as an integer",
     "output_type": "error",
     "traceback": [
      "\u001b[0;31m---------------------------------------------------------------------------\u001b[0m",
      "\u001b[0;31mTypeError\u001b[0m                                 Traceback (most recent call last)",
      "Cell \u001b[0;32mIn[8], line 7\u001b[0m\n\u001b[1;32m      1\u001b[0m N, X \u001b[38;5;241m=\u001b[39m \u001b[38;5;28mmap\u001b[39m(\u001b[38;5;28mint\u001b[39m, \u001b[38;5;28minput\u001b[39m()\u001b[38;5;241m.\u001b[39msplit())\n\u001b[1;32m      4\u001b[0m A \u001b[38;5;241m=\u001b[39m \u001b[38;5;28mlist\u001b[39m(\u001b[38;5;28mmap\u001b[39m(\u001b[38;5;28mint\u001b[39m, \u001b[38;5;28minput\u001b[39m()\u001b[38;5;241m.\u001b[39msplit()))\n\u001b[0;32m----> 7\u001b[0m \u001b[38;5;28;01mfor\u001b[39;00m i \u001b[38;5;129;01min\u001b[39;00m \u001b[38;5;28;43mrange\u001b[39;49m\u001b[43m(\u001b[49m\u001b[43mn\u001b[49m\u001b[43m)\u001b[49m:\n\u001b[1;32m      8\u001b[0m     \u001b[38;5;28;01mif\u001b[39;00m A[i] \u001b[38;5;241m<\u001b[39m X:\n\u001b[1;32m      9\u001b[0m         \u001b[38;5;28mprint\u001b[39m(A[i],end \u001b[38;5;241m=\u001b[39m \u001b[38;5;124m\"\u001b[39m\u001b[38;5;124m \u001b[39m\u001b[38;5;124m\"\u001b[39m)\n",
      "\u001b[0;31mTypeError\u001b[0m: 'list' object cannot be interpreted as an integer"
     ]
    }
   ],
   "source": [
    "# 첫째 줄 입력 받기\n",
    "N, X = map(int, input().split())\n",
    "\n",
    "# 둘째 줄 입력 받기\n",
    "A = list(map(int, input().split()))\n",
    "\n",
    "# X보다 작은 수를 출력\n",
    "for i in range(N):\n",
    "    if A[i] < X:\n",
    "        print(A[i], end=\" \")\n",
    "\n"
   ]
  },
  {
   "cell_type": "code",
   "execution_count": 7,
   "metadata": {},
   "outputs": [
    {
     "name": "stdout",
     "output_type": "stream",
     "text": [
      "Key 10 found in the tree.\n"
     ]
    }
   ],
   "source": [
    "class TreeNode:\n",
    "    def __init__(self, key):\n",
    "        self.left = None\n",
    "        self.right = None\n",
    "        self.key = key\n",
    "\n",
    "# 이진 탐색 트리 삽입 함수\n",
    "def insert(root, key):\n",
    "    if root is None:\n",
    "        return TreeNode(key)\n",
    "    \n",
    "    if key < root.key:\n",
    "        root.left = insert(root.left, key)\n",
    "    else:\n",
    "        root.right = insert(root.right, key)\n",
    "    \n",
    "    return root\n",
    "\n",
    "# 이진 탐색 트리에서 노드를 검색하는 함수\n",
    "def search(root, key):\n",
    "    if root is None:\n",
    "        # 값이 트리에서 발견되지 않은 경우\n",
    "        return None\n",
    "    \n",
    "    if key == root.key:\n",
    "        # 값이 트리에서 발견된 경우\n",
    "        return root\n",
    "    \n",
    "    elif key < root.key:\n",
    "        # 왼쪽 서브트리 탐색\n",
    "        return search(root.left, key)\n",
    "    \n",
    "    else:\n",
    "        # 오른쪽 서브트리 탐색\n",
    "        return search(root.right, key)\n",
    "\n",
    "# 사용 예제\n",
    "if __name__ == \"__main__\":\n",
    "    # 트리 생성\n",
    "    root = None\n",
    "    keys = [20, 8, 22, 4, 12, 10, 14]\n",
    "    \n",
    "    for key in keys:\n",
    "        root = insert(root, key)\n",
    "    \n",
    "    # 검색\n",
    "    search_key = 10\n",
    "    result = search(root, search_key)\n",
    "    \n",
    "    if result:\n",
    "        print(f\"Key {search_key} found in the tree.\")\n",
    "    else:\n",
    "        print(f\"Key {search_key} not found in the tree.\")\n",
    "\n"
   ]
  },
  {
   "cell_type": "code",
   "execution_count": null,
   "metadata": {},
   "outputs": [],
   "source": [
    "class BSTNode:\n",
    "    def __init__(self, key, value):\n",
    "        self.key = key\n",
    "        self.value = value\n",
    "        self.lefe = None\n",
    "        self.right = None\n",
    "\n",
    "\n",
    "def search_bst(n,key):\n",
    "    if n == None :\n",
    "        return None\n",
    "    elif key == n.key:\n",
    "        return n\n",
    "    elif key < n.key:\n",
    "        return search_bst(n.left, key)\n",
    "    else:\n",
    "        return search_bst(n.right, key)\n",
    "    \n",
    "def insert_bst(root, node):\n",
    "    if root == None:\n",
    "        return node\n",
    "    if node.key == root.key:\n",
    "        return root\n",
    "    \n",
    "    if node.key < root.key:\n",
    "        root.left = insert_bst(root.left, node)\n",
    "    else:\n",
    "        root.right = insert_bst(root.right,node)\n",
    "    \n",
    "    return root   # root를 반환 (root는 변화 없음)\n",
    "\n",
    "def delete_bst (root,key):\n",
    "    if root == None : # 공백트리\n",
    "        return root\n",
    "    \"\"\" \n",
    "    key다 루트보다 작거나 크면 해당 자식이 루트인 서브트이에서 삭제를 계속진행함(순환호출 이용) 이떄, \n",
    "    자식이 변경될 수도 있으므로 반환된 값으로 자식을 갱신해야함 \n",
    "    \"\"\"\n",
    "    if key < root.key:                                 \n",
    "        root.left = delete_bst(root.left, key)\n",
    "    elif key > root.key :\n",
    "        root.right = delete_bst(root.right, key)    \n",
    "    \n",
    "    else: # key 가 루트의 키와 같으면 root를 삭제\n",
    "        # 단말노드 오른쪽 자식만 있는 경우\n",
    "        if root.left == None:\n",
    "            return root.right   # 삭제할 노드 위치에 오른쪽 자식을 끌어올린 즉, 오른쪽 자식을 반환\n",
    "        # 왼쪽 자식만 있는 경우\n",
    "        if root.right == None:\n",
    "            return root.left   # 왼쪽 자식을 끌어올림\n",
    "        \n",
    "        # 두 자식이 모두 있는 경우\n",
    "        succ = root.right\n",
    "        while succ.left != None: # 후계자를 찾고 후계자의 데이터를 복사\n",
    "            succ = succ.left\n",
    "\n",
    "        root.key = succ.key      \n",
    "        root.value = succ.value   # 마지막으로, 후계자 삭제\n",
    "        root.right = delete_bst(root.right, succ.key)\n",
    "\n",
    "    return root\n",
    "        \n"
   ]
  },
  {
   "cell_type": "code",
   "execution_count": 13,
   "metadata": {},
   "outputs": [
    {
     "name": "stdout",
     "output_type": "stream",
     "text": [
      "키 10를 가진 노드를 찾았습니다. 값: 'left-right-left'.\n",
      "키 10 삭제 후:\n",
      "키 10을 가진 노드를 찾을 수 없습니다.\n"
     ]
    }
   ],
   "source": [
    "class BSTNode:\n",
    "    def __init__(self, key, value):\n",
    "        self.key = key\n",
    "        self.value = value\n",
    "        self.left = None  # 'lefe' -> 'left'\n",
    "        self.right = None\n",
    "\n",
    "def search_bst(node, key):\n",
    "    if node is None:\n",
    "        return None\n",
    "    if key == node.key:\n",
    "        return node\n",
    "    elif key < node.key:\n",
    "        return search_bst(node.left, key)\n",
    "    else:\n",
    "        return search_bst(node.right, key)\n",
    "    \n",
    "def insert_bst(root, node):\n",
    "    if root is None:\n",
    "        return node\n",
    "    if node.key == root.key:\n",
    "        # 키가 이미 존재하면 값을 업데이트\n",
    "        root.value = node.value\n",
    "    elif node.key < root.key:\n",
    "        root.left = insert_bst(root.left, node)\n",
    "    else:\n",
    "        root.right = insert_bst(root.right, node)\n",
    "    return root\n",
    "\n",
    "def delete_bst(root, key):\n",
    "    if root is None:\n",
    "        return root\n",
    "    \n",
    "    # 키가 루트보다 작은 경우 왼쪽 서브트리에서 삭제\n",
    "    if key < root.key:\n",
    "        root.left = delete_bst(root.left, key)\n",
    "    # 키가 루트보다 큰 경우 오른쪽 서브트리에서 삭제\n",
    "    elif key > root.key:\n",
    "        root.right = delete_bst(root.right, key)\n",
    "    else:\n",
    "        # 키가 루트와 같은 경우 현재 노드를 삭제\n",
    "        # 왼쪽 자식이 없는 경우\n",
    "        if root.left is None:\n",
    "            return root.right\n",
    "        # 오른쪽 자식이 없는 경우\n",
    "        if root.right is None:\n",
    "            return root.left\n",
    "        \n",
    "        # 두 자식이 모두 있는 경우\n",
    "        # 후계자(오른쪽 서브트리에서 가장 작은 값)를 찾음\n",
    "        succ = root.right\n",
    "        while succ.left is not None:\n",
    "            succ = succ.left\n",
    "\n",
    "        # 후계자의 키와 값을 현재 노드로 복사\n",
    "        root.key = succ.key\n",
    "        root.value = succ.value\n",
    "        # 후계자를 삭제\n",
    "        root.right = delete_bst(root.right, succ.key)\n",
    "\n",
    "    return root\n",
    "\n",
    "# 예제 사용\n",
    "if __name__ == \"__main__\":\n",
    "    # 트리 생성\n",
    "    root = None\n",
    "    nodes = [\n",
    "        BSTNode(20, \"root\"),\n",
    "        BSTNode(8, \"left\"),\n",
    "        BSTNode(22, \"right\"),\n",
    "        BSTNode(4, \"left-left\"),\n",
    "        BSTNode(12, \"left-right\"),\n",
    "        BSTNode(10, \"left-right-left\"),\n",
    "        BSTNode(14, \"left-right-right\")\n",
    "    ]\n",
    "    \n",
    "    for node in nodes:\n",
    "        root = insert_bst(root, node)\n",
    "\n",
    "  # 노드 검색 예제\n",
    "    search_key = 10\n",
    "    result = search_bst(root, search_key)\n",
    "    if result:\n",
    "        print(f\"키 {search_key}를 가진 노드를 찾았습니다. 값: '{result.value}'.\")\n",
    "    else:\n",
    "        print(f\"키 {search_key}를 가진 노드를 찾을 수 없습니다.\")\n",
    "    \n",
    "    # 노드 삭제 예제\n",
    "    root = delete_bst(root, 10)\n",
    "    print(\"키 10 삭제 후:\")\n",
    "    result = search_bst(root, 10)\n",
    "    if result:\n",
    "        print(f\"키 10을 가진 노드를 찾았습니다. 값: '{result.value}'.\")\n",
    "    else:\n",
    "        print(\"키 10을 가진 노드를 찾을 수 없습니다.\")\n"
   ]
  },
  {
   "cell_type": "code",
   "execution_count": 18,
   "metadata": {},
   "outputs": [
    {
     "name": "stdout",
     "output_type": "stream",
     "text": [
      "기존 값 :  12345.6789\n",
      "1 의 자리에서 반올림 :  12350.0\n",
      "10 의 자리에서 반올림 :  12300.0\n",
      "100 의 자리에서 반올림 :  12000.0\n",
      "1000 의 자리에서 반올림 :  10000.0\n",
      "소수 첫번째 자리에서 반올림 :  12346\n",
      "소수 두번째 자리에서 반올림 :  12345.7\n",
      "소수 세번째 자리에서 반올림 :  12345.68\n",
      "소수 네번째 자리에서 반올림 :  12345.679\n"
     ]
    }
   ],
   "source": [
    "num = 12345.6789\n",
    "round(3.14) # 3\n",
    "round(-3.14) #  -3\n",
    "round(2.1) #  2\n",
    "round(1.5) # 2\n",
    "\n",
    "print(\"기존 값 : \", num)\n",
    "print(\"1 의 자리에서 반올림 : \", round(num, -1))\n",
    "print(\"10 의 자리에서 반올림 : \", round(num, -2))\n",
    "print(\"100 의 자리에서 반올림 : \", round(num, -3))\n",
    "print(\"1000 의 자리에서 반올림 : \", round(num, -4))\n",
    "print(\"소수 첫번째 자리에서 반올림 : \", round(num))\n",
    "print(\"소수 두번째 자리에서 반올림 : \", round(num, 1))\n",
    "print(\"소수 세번째 자리에서 반올림 : \", round(num, 2))\n",
    "print(\"소수 네번째 자리에서 반올림 : \", round(num, 3))"
   ]
  },
  {
   "cell_type": "code",
   "execution_count": null,
   "metadata": {},
   "outputs": [],
   "source": [
    "import math\n",
    "\n",
    "L = int(input()) # 방학 일수\n",
    "A = int(input()) # 국어 총 페이지 수\n",
    "B = int(input()) # 수학 총 페이지 수\n",
    "C = int(input()) # (국어)하루에 할 수 있는 숙제 페이지 수\n",
    "D = int(input()) # (수학)하루에 할 수 있는 숙제 페이지 수\n",
    "\n",
    "K = math.ceil(A/C) # 필요한 국어 숙제 최소 일수 계산\n",
    "M = math.ceil(B/D) # 필요한 수학 숙제 최소 일수 계산\n",
    "\n",
    "print(L - max(K,M))"
   ]
  },
  {
   "cell_type": "code",
   "execution_count": 1,
   "metadata": {},
   "outputs": [
    {
     "name": "stdout",
     "output_type": "stream",
     "text": [
      "3\n"
     ]
    }
   ],
   "source": [
    "a = int(input())\n",
    "b = int(input())\n",
    "print(a+b)\n",
    "\n",
    "a, b = map(int, input().split())"
   ]
  },
  {
   "cell_type": "code",
   "execution_count": 11,
   "metadata": {},
   "outputs": [],
   "source": [
    "a = int(input())\n",
    "for i in range(a+1):\n",
    "    print(\"*\"*i)\n",
    "    "
   ]
  },
  {
   "cell_type": "code",
   "execution_count": 8,
   "metadata": {},
   "outputs": [],
   "source": [
    "a = list(map(int,input().split()))\n",
    "a.sort()\n",
    "b = a[:-1]\n",
    "for i in b:\n",
    "    print(i)\n"
   ]
  },
  {
   "cell_type": "code",
   "execution_count": 4,
   "metadata": {},
   "outputs": [
    {
     "name": "stdout",
     "output_type": "stream",
     "text": [
      "1\n",
      "1\n",
      "2\n",
      "2\n",
      "3\n",
      "3\n",
      "4\n",
      "4\n",
      "5\n",
      "7\n"
     ]
    }
   ],
   "source": [
    "list = [10,5,2,3,1,4,2,3,4,1,7]\n",
    "list.sort()\n",
    "a = list[:-1]\n",
    "\n",
    "for i in a:\n",
    "    print(i)"
   ]
  },
  {
   "cell_type": "code",
   "execution_count": 12,
   "metadata": {},
   "outputs": [
    {
     "name": "stdout",
     "output_type": "stream",
     "text": [
      "alert\n"
     ]
    }
   ],
   "source": [
    "a = \"alert\"\n",
    "a.upper()\n",
    "\n",
    "print(a)"
   ]
  },
  {
   "cell_type": "code",
   "execution_count": 15,
   "metadata": {},
   "outputs": [
    {
     "name": "stdout",
     "output_type": "stream",
     "text": [
      "ALERT\n",
      "EARTHISUNDERATTACK\n",
      "CANYOUPICKUPSOMEGROCERIES\n"
     ]
    }
   ],
   "source": [
    "a = [\"alert\", \"earthisunderattack\", \"canyoupickupsomegroceries\"]\n",
    "a = [item.upper() for item in a]\n",
    "\n",
    "for i in a:\n",
    "    print(i)"
   ]
  },
  {
   "cell_type": "code",
   "execution_count": 17,
   "metadata": {},
   "outputs": [
    {
     "name": "stdout",
     "output_type": "stream",
     "text": [
      "ALERT\n",
      "EARTHISUNDERATTACK\n",
      "CANYOUPICKUPSOMEGROCERIES\n"
     ]
    }
   ],
   "source": [
    "a = input().split(\",\")\n",
    "\n",
    "\n",
    "a = [item.upper() for item in a]\n",
    "\n",
    "for i in a:\n",
    "    print(i)"
   ]
  },
  {
   "cell_type": "code",
   "execution_count": null,
   "metadata": {},
   "outputs": [],
   "source": [
    "def swapList(newList):\n",
    "    size = len(newList) # 5\n",
    "    \n",
    "    # Swapping \n",
    "    temp = newList[0] # 12\n",
    "    newList[0] = newList[size - 1] # 24\n",
    "    newList[size - 1] = temp # 12 \n",
    "    \n",
    "    return newList  # 인덱스 12와 24 위를 바꿈\n",
    "    \n",
    "# Driver code\n",
    "newList = [12, 35, 9, 56, 24]\n",
    "\n",
    "print(swapList(newList))"
   ]
  },
  {
   "cell_type": "code",
   "execution_count": null,
   "metadata": {},
   "outputs": [],
   "source": [
    "def swapList(list):\n",
    "    \n",
    "    get = list[-1], list[0] # 24, 12\n",
    "    \n",
    "    list[0], list[-1] = get # 12, 24\n",
    "    \n",
    "    return list\n",
    "    \n",
    "newList = [12, 35, 9, 56, 24]\n",
    "print(swapList(newList))"
   ]
  }
 ],
 "metadata": {
  "kernelspec": {
   "display_name": "Python 3",
   "language": "python",
   "name": "python3"
  },
  "language_info": {
   "codemirror_mode": {
    "name": "ipython",
    "version": 3
   },
   "file_extension": ".py",
   "mimetype": "text/x-python",
   "name": "python",
   "nbconvert_exporter": "python",
   "pygments_lexer": "ipython3",
   "version": "3.9.6"
  }
 },
 "nbformat": 4,
 "nbformat_minor": 2
}
