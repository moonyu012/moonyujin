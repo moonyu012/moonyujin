{
 "cells": [
  {
   "cell_type": "code",
   "execution_count": 25,
   "metadata": {},
   "outputs": [
    {
     "name": "stdout",
     "output_type": "stream",
     "text": [
      "아침 추천메뉴는 시리얼입니다.\n",
      "점심 추천메뉴는 홍차입니다.\n",
      "저녁 추천메뉴는 라면입니다.\n"
     ]
    }
   ],
   "source": [
    "def cafe(n1, n2, n3):\n",
    "    print(f\"아침 추천메뉴는 {n1}입니다.\")\n",
    "    print(f\"점심 추천메뉴는 {n2}입니다.\")\n",
    "    print(f\"저녁 추천메뉴는 {n3}입니다.\")\n",
    "cafe('시리얼','홍차','라면')"
   ]
  },
  {
   "cell_type": "code",
   "execution_count": 26,
   "metadata": {},
   "outputs": [
    {
     "name": "stdout",
     "output_type": "stream",
     "text": [
      "suv suv\n"
     ]
    }
   ],
   "source": [
    "class Car: # 클래스 = 공장\n",
    "    pass\n",
    "\n",
    "x = Car() # x는 인스턴스 = 공장에서 나온 자동차\n",
    "x.color = 'red'\n",
    "x.type = 'suv'\n",
    "print(x.type,x.type)"
   ]
  },
  {
   "cell_type": "code",
   "execution_count": 27,
   "metadata": {},
   "outputs": [
    {
     "name": "stdout",
     "output_type": "stream",
     "text": [
      "red\n"
     ]
    }
   ],
   "source": [
    "class Car: # 클래스 반복하기 싫어서 씀\n",
    "    color = 'red'\n",
    "    type = 'suv'\n",
    "\n",
    "print(Car.color)"
   ]
  },
  {
   "cell_type": "code",
   "execution_count": 28,
   "metadata": {},
   "outputs": [
    {
     "name": "stdout",
     "output_type": "stream",
     "text": [
      "red suv\n",
      "yellow sedan\n"
     ]
    }
   ],
   "source": [
    "class Car: #self : 자기자신 지칭 나를 초기화 할거야\n",
    "    def __init__(self, c, type):  # 초기화 하겠다 -> def __init__()\n",
    "        self.color = c # 속성 = 값\n",
    "        self.type = type\n",
    "    def show(self):\n",
    "        print(self.color,self.type)\n",
    "\n",
    "x = Car('red','suv')\n",
    "\n",
    "x.show()\n",
    "\n",
    "y = Car('yellow','sedan')\n",
    "y.show()\n",
    "\n"
   ]
  },
  {
   "cell_type": "code",
   "execution_count": 29,
   "metadata": {},
   "outputs": [
    {
     "name": "stdout",
     "output_type": "stream",
     "text": [
      "안녕하세요입니다.\n"
     ]
    }
   ],
   "source": [
    "class practice:\n",
    "    def __init__(self, name, age):\n",
    "        self.name = name\n",
    "        self.age = age\n",
    "    def abc(self):\n",
    "        print('{}{}입니다.'.format(\"안녕\",\"하세요\"))\n",
    "\n",
    "aa = practice(\"아무개\",20)\n",
    "\n",
    "aa.abc()"
   ]
  },
  {
   "cell_type": "code",
   "execution_count": 30,
   "metadata": {},
   "outputs": [
    {
     "name": "stdout",
     "output_type": "stream",
     "text": [
      "아무개20입니다.\n"
     ]
    }
   ],
   "source": [
    "class practice:\n",
    "    def __init__(self, name, age):\n",
    "        self.name = name\n",
    "        self.age = age\n",
    "    def abc(self):\n",
    "        print('{}{}입니다.'.format(self.name,self.age))\n",
    "\n",
    "aa = practice(\"아무개\",20)\n",
    "\n",
    "aa.abc()"
   ]
  },
  {
   "cell_type": "code",
   "execution_count": 31,
   "metadata": {},
   "outputs": [
    {
     "name": "stdout",
     "output_type": "stream",
     "text": [
      "아무개20입니다.\n"
     ]
    }
   ],
   "source": [
    "class practice:\n",
    "    def __init__(self, name, age):\n",
    "        self.name = name\n",
    "        self.age = age\n",
    "    def abc(self):\n",
    "        print(f'{self.name}{self.age}입니다.')\n",
    "\n",
    "aa = practice(\"아무개\",20)\n",
    "\n",
    "aa.abc()"
   ]
  },
  {
   "cell_type": "code",
   "execution_count": 32,
   "metadata": {},
   "outputs": [
    {
     "name": "stdout",
     "output_type": "stream",
     "text": [
      "스펀지밥의 점수의 합은 140 평균은 70.0입니다.\n",
      "징징이의 점수의 합은 160 평균은 80.0입니다.\n",
      "뚱이의 점수의 합은 50 평균은 25.0입니다.\n"
     ]
    }
   ],
   "source": [
    "class Pro:\n",
    "    def __init__(self, a,b,c):\n",
    "        self.a = a\n",
    "        self.b = b\n",
    "        self.c = c\n",
    "    def dp(self):\n",
    "        return self.a + self.b\n",
    "    def avg(self):\n",
    "        return self.dp() / 2\n",
    "    def pri(self):\n",
    "        return f'{self.c}의 점수의 합은 {self.dp()} 평균은 {self.avg()}입니다.'\n",
    "    \n",
    "data = [\n",
    "    Pro(60,80,\"스펀지밥\"),\n",
    "    Pro(70,90,\"징징이\"),\n",
    "    Pro(30,20,\"뚱이\")\n",
    "]\n",
    "for a in data:\n",
    "    print(a.pri())\n",
    "\n"
   ]
  },
  {
   "cell_type": "code",
   "execution_count": 33,
   "metadata": {},
   "outputs": [
    {
     "name": "stdout",
     "output_type": "stream",
     "text": [
      "12\n"
     ]
    },
    {
     "data": {
      "text/plain": [
       "7"
      ]
     },
     "execution_count": 33,
     "metadata": {},
     "output_type": "execute_result"
    }
   ],
   "source": [
    "class aaa:\n",
    "    def __init__(self,c,s):\n",
    "        self.c = c\n",
    "        self.s = s\n",
    "    def add(self):\n",
    "        result = self.c + self.s\n",
    "        return result\n",
    "\n",
    "a=(aaa(3,4))\n",
    "\n",
    "print(a.c * a.s)\n",
    "a.add()        "
   ]
  },
  {
   "cell_type": "markdown",
   "metadata": {},
   "source": [
    "form mod2 import add,avg\n",
    ":mod2.py라는 파일 안에 있는 add의 함수를 가져와서 쓰겠다(필요한 기능만 가져와서 쓰겠다.)\n",
    "\n",
    "inport mod\n",
    ":mod.py안에 있는 코드를 가져와서 쓰겠다\n",
    "\n"
   ]
  },
  {
   "cell_type": "code",
   "execution_count": 43,
   "metadata": {},
   "outputs": [
    {
     "name": "stdout",
     "output_type": "stream",
     "text": [
      "2024-07-11\n"
     ]
    }
   ],
   "source": [
    "import datetime\n",
    "day1 = datetime.date(2024,7,11)\n",
    "print(day1)"
   ]
  },
  {
   "cell_type": "code",
   "execution_count": null,
   "metadata": {},
   "outputs": [],
   "source": [
    "import time\n",
    "a = time.time() # 현재 시간을 초 단위로 반환 a 에 저장\n",
    "\n",
    "for i in range(1,1000): # for문이 실행 후\n",
    "    print(\"\")\n",
    "\n",
    "b = time.time() # 반복문 실핼 이후의 시간을 기록\n",
    "\n",
    "print(b-a) # 실행 후 시간에서 실행전 (a)를 뺸 값을 출력\n",
    "\n",
    "# 반복분 실행에 걸린 총 시간을 초 단위로 구함"
   ]
  },
  {
   "cell_type": "code",
   "execution_count": 37,
   "metadata": {},
   "outputs": [
    {
     "name": "stdout",
     "output_type": "stream",
     "text": [
      "천사\n",
      "허용되지 않는 별명입니다.\n"
     ]
    }
   ],
   "source": [
    "class MyError(Exception):\n",
    "    def __str__(self):\n",
    "        return \"허용되지 않는 별명입니다.\"\n",
    "\n",
    "def say_nick(nick):\n",
    "    if nick == '바보':\n",
    "        raise MyError()\n",
    "    print(nick)\n",
    "    \n",
    "\n",
    "try:\n",
    "    say_nick('천사')\n",
    "    say_nick('바보')\n",
    "except MyError as e:\n",
    "    print(e)"
   ]
  },
  {
   "cell_type": "code",
   "execution_count": null,
   "metadata": {},
   "outputs": [],
   "source": [
    "class MyError(Exception):\n",
    "    def __str__(self):\n",
    "        return \"허용되지 않는 별명입니다.\"\n",
    "\n",
    "def say_nick(nick):\n",
    "    if nick == '바보':\n",
    "        raise MyError()\n",
    "    print(nick)\n",
    "    \n",
    "\n",
    "try:\n",
    "    say_nick('천사')\n",
    "    say_nick('바보')\n",
    "except MyError as e:\n",
    "    print(e)"
   ]
  },
  {
   "cell_type": "code",
   "execution_count": 16,
   "metadata": {},
   "outputs": [
    {
     "name": "stdout",
     "output_type": "stream",
     "text": [
      "안녕\n"
     ]
    }
   ],
   "source": [
    "try: # 오류 회피하기\n",
    "    f = open(\"없는 파일\",'r')\n",
    "except FileNotFoundError:\n",
    "    pass\n",
    "print(\"안녕\")"
   ]
  },
  {
   "cell_type": "code",
   "execution_count": 17,
   "metadata": {},
   "outputs": [
    {
     "name": "stdout",
     "output_type": "stream",
     "text": [
      "입력이 정확하지 않습니다.\n"
     ]
    }
   ],
   "source": [
    "try:\n",
    "    age = int(input('나이를 입력하세요'))\n",
    "except:\n",
    "    print('입력이 정확하지 않습니다.')\n",
    "else:\n",
    "    if age <= 18:\n",
    "        print('미성년자는 출입금지 입니다.')\n",
    "    else:\n",
    "        print('환영합니다.')"
   ]
  },
  {
   "cell_type": "code",
   "execution_count": 18,
   "metadata": {},
   "outputs": [
    {
     "name": "stdout",
     "output_type": "stream",
     "text": [
      "김\n",
      "박\n"
     ]
    }
   ],
   "source": [
    "class Family:\n",
    "    lastname = \"김\"\n",
    "\n",
    "a = Family()\n",
    "b = Family()\n",
    "b.lastname = \"박\"\n",
    "print(a.lastname)\n",
    "print(b.lastname)"
   ]
  },
  {
   "cell_type": "code",
   "execution_count": 44,
   "metadata": {},
   "outputs": [
    {
     "name": "stdout",
     "output_type": "stream",
     "text": [
      "6\n"
     ]
    }
   ],
   "source": [
    "n = int(input())\n",
    "su = 0\n",
    "for i in range(1,n+1):\n",
    "    su += i\n",
    "\n",
    "print(su)"
   ]
  },
  {
   "cell_type": "code",
   "execution_count": null,
   "metadata": {},
   "outputs": [
    {
     "name": "stdout",
     "output_type": "stream",
     "text": [
      "'Hello, World!'\n"
     ]
    }
   ],
   "source": [
    "text = \"   Hello, World!   \"\n",
    "cleaned_text = text.strip()\n",
    "print(f\"'{cleaned_text}'\")\n"
   ]
  },
  {
   "cell_type": "code",
   "execution_count": null,
   "metadata": {},
   "outputs": [
    {
     "name": "stdout",
     "output_type": "stream",
     "text": [
      "'   Hello, World!   '\n"
     ]
    }
   ],
   "source": [
    "text = \"   Hello, World!   \"\n",
    "cleaned_text = text\n",
    "print(f\"'{cleaned_text}'\")\n"
   ]
  },
  {
   "cell_type": "code",
   "execution_count": 48,
   "metadata": {},
   "outputs": [
    {
     "name": "stdout",
     "output_type": "stream",
     "text": [
      "[2, 4, 6, 8, 10, 12, 14, 16, 18]\n"
     ]
    }
   ],
   "source": [
    "def gugu(n):\n",
    "    result = []\n",
    "    i = 1\n",
    "    while i < 10:\n",
    "        result.append(n*i)\n",
    "        i += 1\n",
    "    return result\n",
    "print(gugu(2))"
   ]
  },
  {
   "cell_type": "code",
   "execution_count": 49,
   "metadata": {},
   "outputs": [
    {
     "name": "stdout",
     "output_type": "stream",
     "text": [
      "233168\n"
     ]
    }
   ],
   "source": [
    "result = 0\n",
    "for n in range(1,1000):\n",
    "    if n % 3 == 0 or n % 5 == 0:\n",
    "        result += n\n",
    "print(result)"
   ]
  },
  {
   "cell_type": "code",
   "execution_count": 50,
   "metadata": {},
   "outputs": [
    {
     "name": "stdout",
     "output_type": "stream",
     "text": [
      "1\n",
      "2\n",
      "3\n",
      "3\n"
     ]
    }
   ],
   "source": [
    "def get_total_page(m,n):\n",
    "    if m % n == 0:\n",
    "        return m // n\n",
    "    else:\n",
    "        return m // n +1\n",
    "print(get_total_page(5,10))\n",
    "print(get_total_page(15,10))\n",
    "print(get_total_page(25,10))\n",
    "print(get_total_page(30,10))"
   ]
  },
  {
   "cell_type": "code",
   "execution_count": 1,
   "metadata": {},
   "outputs": [
    {
     "name": "stdout",
     "output_type": "stream",
     "text": [
      ">\n"
     ]
    }
   ],
   "source": [
    "A = int(input()) \n",
    "B = int(input())\n",
    "if A > B:\n",
    "    print(\">\")\n",
    "elif A < B:\n",
    "    print(\"<\")\n",
    "else:\n",
    "    print(\"==\")"
   ]
  },
  {
   "cell_type": "code",
   "execution_count": null,
   "metadata": {},
   "outputs": [],
   "source": [
    "for i in range(2, 10):\n",
    "    for n in range(1, 10):  \n",
    "        print(f'{i} * {n} = {i*n}')"
   ]
  },
  {
   "cell_type": "code",
   "execution_count": 7,
   "metadata": {},
   "outputs": [
    {
     "name": "stdout",
     "output_type": "stream",
     "text": [
      "2 * 1 = 2\n",
      "2 * 2 = 4\n",
      "2 * 3 = 6\n",
      "2 * 4 = 8\n",
      "2 * 5 = 10\n",
      "2 * 6 = 12\n",
      "2 * 7 = 14\n",
      "2 * 8 = 16\n",
      "2 * 9 = 18\n"
     ]
    }
   ],
   "source": [
    "n = int(input())\n",
    "\n",
    "for i in range(1,10):\n",
    "    print(n, '*', i, '=', n*i)"
   ]
  }
 ],
 "metadata": {
  "kernelspec": {
   "display_name": "Python 3",
   "language": "python",
   "name": "python3"
  },
  "language_info": {
   "codemirror_mode": {
    "name": "ipython",
    "version": 3
   },
   "file_extension": ".py",
   "mimetype": "text/x-python",
   "name": "python",
   "nbconvert_exporter": "python",
   "pygments_lexer": "ipython3",
   "version": "3.9.6"
  }
 },
 "nbformat": 4,
 "nbformat_minor": 2
}
