{
 "cells": [
  {
   "cell_type": "code",
   "execution_count": null,
   "metadata": {},
   "outputs": [],
   "source": [
    "def cafe(n1, n2, n3):\n",
    "    print(f\"아침 추천메뉴는 {n1}입니다.\")\n",
    "    print(f\"점심 추천메뉴는 {n2}입니다.\")\n",
    "    print(f\"저녁 추천메뉴는 {n3}입니다.\")\n",
    "cafe('시리얼','홍차','라면')"
   ]
  },
  {
   "cell_type": "code",
   "execution_count": 1,
   "metadata": {},
   "outputs": [
    {
     "name": "stdout",
     "output_type": "stream",
     "text": [
      "suv\n"
     ]
    }
   ],
   "source": [
    "class Car: # 클래스 = 공장\n",
    "    pass\n",
    "\n",
    "x = Car() # x는 인스턴스 = 공장에서 나온 자동차\n",
    "x.color = 'red'\n",
    "x.type = 'suv'\n",
    "print(x.type,x.type)"
   ]
  },
  {
   "cell_type": "code",
   "execution_count": 2,
   "metadata": {},
   "outputs": [
    {
     "name": "stdout",
     "output_type": "stream",
     "text": [
      "red\n"
     ]
    }
   ],
   "source": [
    "class Car: # 클래스 반복하기 싫어서 씀\n",
    "    color = 'red'\n",
    "    type = 'suv'\n",
    "\n",
    "print(Car.color)"
   ]
  },
  {
   "cell_type": "code",
   "execution_count": 19,
   "metadata": {},
   "outputs": [
    {
     "name": "stdout",
     "output_type": "stream",
     "text": [
      "red suv\n",
      "yellow sedan\n"
     ]
    }
   ],
   "source": [
    "class Car: #self : 자기자신 지칭 나를 초기화 할거야\n",
    "    def __init__(self, c, type):  # 초기화 하겠다 -> def __init__()\n",
    "        self.color = c # 속성 = 값\n",
    "        self.type = type\n",
    "    def show(self):\n",
    "        print(self.color,self.type)\n",
    "\n",
    "x = Car('red','suv')\n",
    "\n",
    "x.show()\n",
    "\n",
    "y = Car('yellow','sedan')\n",
    "y.show()\n",
    "\n"
   ]
  }
 ],
 "metadata": {
  "kernelspec": {
   "display_name": "Python 3",
   "language": "python",
   "name": "python3"
  },
  "language_info": {
   "codemirror_mode": {
    "name": "ipython",
    "version": 3
   },
   "file_extension": ".py",
   "mimetype": "text/x-python",
   "name": "python",
   "nbconvert_exporter": "python",
   "pygments_lexer": "ipython3",
   "version": "3.9.6"
  }
 },
 "nbformat": 4,
 "nbformat_minor": 2
}
