{
 "cells": [
  {
   "cell_type": "code",
   "execution_count": 2,
   "metadata": {},
   "outputs": [
    {
     "name": "stdout",
     "output_type": "stream",
     "text": [
      "결과: 6\n",
      "결과: 4\n",
      "결과: 8\n",
      "계산을 종료합니다.\n"
     ]
    }
   ],
   "source": [
    "class Calculator:\n",
    "    def __init__(self):\n",
    "        self.result = 0  # 초기 계산 결과\n",
    "\n",
    "    def add(self, x, y):\n",
    "        return x + y\n",
    "\n",
    "    def subtraction(self, x, y):\n",
    "        return x - y\n",
    "\n",
    "    def multiplication(self, x, y):\n",
    "        return x * y\n",
    "\n",
    "    def division(self, x, y):\n",
    "        if y == 0:\n",
    "            print(\"ZeroDivisionError\")\n",
    "            return None\n",
    "        return x / y\n",
    "\n",
    "    def calculate(self):\n",
    "        first_operation= True\n",
    "\n",
    "        while True:\n",
    "            choice = input(\"1 : 종료, 2 : 더하기, 3 : 빼기, 4 : 곱하기, 5 : 나누기 \")\n",
    "\n",
    "            if choice == \"1\":\n",
    "                print(\"계산을 종료합니다.\")\n",
    "                break\n",
    "\n",
    "            if choice in [\"2\", \"3\", \"4\", \"5\"]:\n",
    "                if first_operation:\n",
    "                    try:\n",
    "                        # 첫 연산 시에만 두 숫자 입력\n",
    "                        a, b = map(int, input(\"두 숫자를 입력하세요 (공백으로 구분): \").split())\n",
    "                    except ValueError:\n",
    "                        print(\"잘못된 입력입니다. 숫자를 두 개 입력해 주세요.\")\n",
    "                        continue\n",
    "                    first_operation = False\n",
    "                else:\n",
    "                    try:\n",
    "                        # 이후 연산 시에는 두 번째 숫자만 입력\n",
    "                        b = int(input(f\"첫 번째 숫자는 {self.result}입니다. 두 번째 숫자를 입력하세요: \"))\n",
    "                        a = self.result  # 이전 결과를 첫 번째 숫자로 사용\n",
    "                    except ValueError:\n",
    "                        print(\"잘못된 입력입니다. 숫자를 올바르게 입력해 주세요.\")\n",
    "                        continue\n",
    "\n",
    "                # 선택에 따라 연산 수행\n",
    "                if choice == \"2\":\n",
    "                    self.result = self.add(a, b)\n",
    "                elif choice == \"3\":\n",
    "                    self.result = self.subtraction(a, b)\n",
    "                elif choice == \"4\":\n",
    "                    self.result = self.multiplication(a, b)\n",
    "                elif choice == \"5\":\n",
    "                     result = self.division(a, b)\n",
    "                     if result is not None:  # 나눗셈이 성공한 경우에만 결과 업데이트\n",
    "                        self.result = result\n",
    "\n",
    "                print(\"결과:\", self.result)\n",
    "            else:\n",
    "                print(\"다시 선택해 주세요.\")\n",
    "\n",
    "if __name__ == \"__main__\":\n",
    "    calc = Calculator()\n",
    "    calc.calculate()"
   ]
  }
 ],
 "metadata": {
  "kernelspec": {
   "display_name": "Python 3",
   "language": "python",
   "name": "python3"
  },
  "language_info": {
   "codemirror_mode": {
    "name": "ipython",
    "version": 3
   },
   "file_extension": ".py",
   "mimetype": "text/x-python",
   "name": "python",
   "nbconvert_exporter": "python",
   "pygments_lexer": "ipython3",
   "version": "3.9.6"
  }
 },
 "nbformat": 4,
 "nbformat_minor": 2
}
