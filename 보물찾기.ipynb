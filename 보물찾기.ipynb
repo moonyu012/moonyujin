{
 "cells": [
  {
   "cell_type": "code",
   "execution_count": 4,
   "metadata": {},
   "outputs": [
    {
     "name": "stdout",
     "output_type": "stream",
     "text": [
      "현재위치(0, 1)입니다.\n",
      "보물까지의 거리:4\n",
      "게임을 종료했습니다.\n"
     ]
    }
   ],
   "source": [
    "import random\n",
    "\n",
    "class TreasureHunt:\n",
    "    def __init__(self, board_size):\n",
    "        self.board_size = board_size\n",
    "        self.treasure_position = (random.randint(0, board_size-1),random.randint(0,board_size-1))\n",
    "        self.player_position = (random.randint(0, board_size-1),random.randint(0,board_size-1))\n",
    "        self.move = 0\n",
    "    \n",
    "    def move_player(self,direction):\n",
    "        x, y = self.player_position\n",
    "        if direction == \"동\":\n",
    "            y = min(y+1, self.board_size-1)\n",
    "        elif direction == \"서\": \n",
    "            y = max(y-1, 0)\n",
    "        elif direction == \"남\":\n",
    "            x = min(x+1, self.board_size-1)\n",
    "        elif direction == \"북\":\n",
    "            x = max(x-1 ,0)\n",
    "        \n",
    "        self.player_position = (x, y)\n",
    "        self.move += 1\n",
    "\n",
    "    def distance_calculation(self):\n",
    "        return abs(self.treasure_position[0] - self.player_position[0]) + abs(self.treasure_position[1] - self.player_position[1])\n",
    "    \n",
    "    def play_game(self):\n",
    "\n",
    "        while True:\n",
    "            moving = input(\"'동, 서, 남, 북' 중 하나를 적어주세요 게임을 그만 할려면 '종료' 입력해주세요\")\n",
    "            print(f'현재위치{self.player_position}입니다.')\n",
    "            distance = self.distance_calculation()\n",
    "            print(f'보물까지의 거리:{distance}')\n",
    "            \n",
    "            if distance == 0:\n",
    "                print(\"축하합니다. 보물을 찾으셨습니다.\")\n",
    "                print(f\"이동횟수:{self.move}\")\n",
    "                break\n",
    "            elif moving == \"종료\":\n",
    "                print(\"게임을 종료했습니다.\")\n",
    "                break\n",
    "            \n",
    "            if moving == '동':\n",
    "                self.move_player(moving)\n",
    "            elif moving == '서':\n",
    "                self.move_player(moving)\n",
    "            elif moving == '남':\n",
    "                self.move_player(moving)\n",
    "            elif moving == '북':\n",
    "                self.move_player(moving)\n",
    "            else:\n",
    "                print(\"'동,서,남,북' 중 하나를 적어주세요\")\n",
    "    \n",
    "if __name__ == \"__main__\":\n",
    "    board_size = 5\n",
    "    ready = TreasureHunt(board_size)\n",
    "    ready.play_game()\n",
    "\n",
    "    \n",
    "\n"
   ]
  }
 ],
 "metadata": {
  "kernelspec": {
   "display_name": "Python 3",
   "language": "python",
   "name": "python3"
  },
  "language_info": {
   "codemirror_mode": {
    "name": "ipython",
    "version": 3
   },
   "file_extension": ".py",
   "mimetype": "text/x-python",
   "name": "python",
   "nbconvert_exporter": "python",
   "pygments_lexer": "ipython3",
   "version": "3.9.6"
  }
 },
 "nbformat": 4,
 "nbformat_minor": 2
}
